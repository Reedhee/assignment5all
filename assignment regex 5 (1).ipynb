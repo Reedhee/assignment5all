{
 "cells": [
  {
   "cell_type": "markdown",
   "id": "36ab9593",
   "metadata": {},
   "source": [
    "Q1"
   ]
  },
  {
   "cell_type": "code",
   "execution_count": 1,
   "id": "51e7146f",
   "metadata": {},
   "outputs": [],
   "source": [
    "import re"
   ]
  },
  {
   "cell_type": "code",
   "execution_count": 2,
   "id": "2eda3c69",
   "metadata": {},
   "outputs": [
    {
     "name": "stdout",
     "output_type": "stream",
     "text": [
      "['T', 'h', 'e', 'g', 'o', 'a', 'l', 'i', 's', 't', 'o', 't', 'u', 'r', 'n', 'd', 'a', 't', 'a', 'i', 'n', 't', 'o', 'i', 'n', 'f', 'o', 'r', 'm', 'a', 't', 'i', 'o', 'n', 'a', 'n', 'd', 'i', 'n', 'f', 'o', 'r', 'm', 'a', 't', 'i', 'o', 'n', 'i', 'n', 't', 'o', 'i', 'n', 's', 'i', 'g', 'h', 't']\n"
     ]
    }
   ],
   "source": [
    "string1=\"The goal is to turn data into information, and information into insight\"\n",
    "x=re.findall(\"[a-zA-Z]\",string1)\n",
    "print(x)"
   ]
  },
  {
   "cell_type": "markdown",
   "id": "9e78fe8c",
   "metadata": {},
   "source": [
    "Q1"
   ]
  },
  {
   "cell_type": "code",
   "execution_count": 4,
   "id": "8df23eb3",
   "metadata": {},
   "outputs": [],
   "source": [
    "import re"
   ]
  },
  {
   "cell_type": "code",
   "execution_count": 6,
   "id": "aaf61cad",
   "metadata": {},
   "outputs": [
    {
     "name": "stdout",
     "output_type": "stream",
     "text": [
      "['A', 'm', 'b', 'a', 'n', 'i', 'p', 'h', 'o', 'n', 'e', 'n', 'u', 'm', 'b', 'e', 'r', '9', '9', '9', '6', '6', '6', '7', '3', '5', '0', 'c', 'o', 'm', 'p', 'a', 'n', 'y', 'i', 's', 'o', 'f', '3', '0', '0', 'b', 'i', 'l', 'l', 'i', 'o', 'n']\n"
     ]
    }
   ],
   "source": [
    "string2=\"Ambani phone number9996667350,company is of 300 billion $\"\n",
    "pattern=\"a-zA-z0-9\"\n",
    "x=re.findall(\"[a-zA-Z0-9]\",string2)\n",
    "print(x)"
   ]
  },
  {
   "cell_type": "code",
   "execution_count": 8,
   "id": "ba2df608",
   "metadata": {},
   "outputs": [
    {
     "name": "stdout",
     "output_type": "stream",
     "text": [
      "['A', 'm', 'b', 'a', 'n', 'i', 'p', 'h', 'o', 'n', 'e', 'n', 'u', 'm', 'b', 'e', 'r', '9', '9', '9', '6', '6', '6', '7', '3', '5', '0', 'c', 'o', 'm', 'p', 'a', 'n', 'y', 'i', 's', 'o', 'f', '3', '0', '0', 'b', 'i', 'l', 'l', 'i', 'o', 'n']\n"
     ]
    }
   ],
   "source": [
    "string2=\"Ambani phone number9996667350,company is of 300 billion $\"\n",
    "pattern=\"[a-zA-z0-9]\"\n",
    "x=re.findall(pattern,string2)\n",
    "print(x)"
   ]
  },
  {
   "cell_type": "markdown",
   "id": "a4aae88e",
   "metadata": {},
   "source": [
    "Q2"
   ]
  },
  {
   "cell_type": "code",
   "execution_count": 21,
   "id": "1ba03e11",
   "metadata": {},
   "outputs": [
    {
     "name": "stdout",
     "output_type": "stream",
     "text": [
      "['ab', 'ab', 'b', 'b', 'ab', 'ab', 'b', 'b', 'b']\n"
     ]
    }
   ],
   "source": [
    "string3=\"ab abbb ab aba bbb\"\n",
    "x=re.findall(\"a*b\",string3)\n",
    "print(x)"
   ]
  },
  {
   "cell_type": "markdown",
   "id": "0e7f1abb",
   "metadata": {},
   "source": [
    "Q3"
   ]
  },
  {
   "cell_type": "code",
   "execution_count": 23,
   "id": "9103a559",
   "metadata": {},
   "outputs": [
    {
     "name": "stdout",
     "output_type": "stream",
     "text": [
      "['ab', 'abbb', 'ab', 'bbb']\n"
     ]
    }
   ],
   "source": [
    "string4=\"ab abbb aa aba bbb\"\n",
    "x=re.findall(\"a*b+\",string4)\n",
    "print(x)"
   ]
  },
  {
   "cell_type": "markdown",
   "id": "29eca620",
   "metadata": {},
   "source": [
    "Q4"
   ]
  },
  {
   "cell_type": "code",
   "execution_count": 24,
   "id": "305e7f0d",
   "metadata": {},
   "outputs": [
    {
     "name": "stdout",
     "output_type": "stream",
     "text": [
      "['ab', 'ab', 'a', 'a', 'a', 'a', 'ab', 'a']\n"
     ]
    }
   ],
   "source": [
    "string5=\"abb aba ac aa abbb cba bbb\"\n",
    "x=re.findall(\"ab?\",string5)\n",
    "print(x)"
   ]
  },
  {
   "cell_type": "markdown",
   "id": "15ddbcfd",
   "metadata": {},
   "source": [
    "Q5"
   ]
  },
  {
   "cell_type": "code",
   "execution_count": 25,
   "id": "ccea5c90",
   "metadata": {},
   "outputs": [
    {
     "name": "stdout",
     "output_type": "stream",
     "text": [
      "['abbb', 'abbb']\n"
     ]
    }
   ],
   "source": [
    "string6=\"abbb abba aabb bbb bbba ababb abbb\"\n",
    "x=re.findall(\"ab{3}\",string6)\n",
    "print(x)"
   ]
  },
  {
   "cell_type": "markdown",
   "id": "a519c5fc",
   "metadata": {},
   "source": [
    "Q6"
   ]
  },
  {
   "cell_type": "code",
   "execution_count": 26,
   "id": "9c76e792",
   "metadata": {},
   "outputs": [
    {
     "name": "stdout",
     "output_type": "stream",
     "text": [
      "['Life', 'Is', 'Like', 'Riding', 'A', 'Bicycle.', 'To', 'Keep', 'Your', 'Balance,', 'You', 'Must', 'Keep', 'Moving.']\n"
     ]
    }
   ],
   "source": [
    "text=\"Life Is Like Riding A Bicycle. To Keep Your Balance, You Must Keep Moving.\"\n",
    "pattern=\"\\s\"\n",
    "x=re.split(pattern,text)\n",
    "print(x)"
   ]
  },
  {
   "cell_type": "markdown",
   "id": "539f904c",
   "metadata": {},
   "source": [
    "Q7"
   ]
  },
  {
   "cell_type": "code",
   "execution_count": 27,
   "id": "0e21d5ad",
   "metadata": {},
   "outputs": [
    {
     "name": "stdout",
     "output_type": "stream",
     "text": [
      "['abb', 'abbb', 'abbb', 'abb', 'abbb', 'abbb', 'abbb']\n"
     ]
    }
   ],
   "source": [
    "string=\"abb abbb abbbb abb abbb abbbbb abbbbbb ab\"\n",
    "pattern=\"ab{2,3}\"\n",
    "x=re.findall(pattern,string)\n",
    "print(x)"
   ]
  },
  {
   "cell_type": "markdown",
   "id": "a51dca13",
   "metadata": {},
   "source": [
    "Q8"
   ]
  },
  {
   "cell_type": "code",
   "execution_count": 1,
   "id": "063acc27",
   "metadata": {},
   "outputs": [],
   "source": [
    "import re"
   ]
  },
  {
   "cell_type": "code",
   "execution_count": 11,
   "id": "9604ac37",
   "metadata": {},
   "outputs": [],
   "source": [
    "text = \"hello python world\"\n",
    "pattern = re.compile(r\"'([a-z]+_[a-z]+)'\")\n",
    "for match in pattern.finditer(text):\n",
    "    print(match.group(0))"
   ]
  },
  {
   "cell_type": "markdown",
   "id": "8f025cac",
   "metadata": {},
   "source": [
    "Q9"
   ]
  },
  {
   "cell_type": "code",
   "execution_count": 10,
   "id": "765d0c57",
   "metadata": {},
   "outputs": [
    {
     "name": "stdout",
     "output_type": "stream",
     "text": [
      "The string 'abd' does not match the pattern.\n",
      "The string 'apqrb' matches the pattern.\n",
      "The string 'ahb' matches the pattern.\n",
      "The string 'abhd' does not match the pattern.\n",
      "The string 'abbb' matches the pattern.\n"
     ]
    }
   ],
   "source": [
    "\n",
    "\n",
    "def match_pattern(string):\n",
    "    pattern = r'a.*b$'\n",
    "    match = re.match(pattern, string)\n",
    "    if match:\n",
    "        print(f\"The string '{string}' matches the pattern.\")\n",
    "    else:\n",
    "        print(f\"The string '{string}' does not match the pattern.\")\n",
    "        \n",
    "test_strings = ['abd', 'apqrb', 'ahb', 'abhd', 'abbb']\n",
    "for string in test_strings:\n",
    "    match_pattern(string)"
   ]
  },
  {
   "cell_type": "markdown",
   "id": "f873de40",
   "metadata": {},
   "source": [
    "Q10"
   ]
  },
  {
   "cell_type": "code",
   "execution_count": 14,
   "id": "f4c9ca0e",
   "metadata": {},
   "outputs": [
    {
     "name": "stdout",
     "output_type": "stream",
     "text": [
      "<re.Match object; span=(0, 2), match='If'>\n",
      "If\n"
     ]
    }
   ],
   "source": [
    "string=\"If we have data, let's look at data.\"\n",
    "pattern=\"^\\w+\"\n",
    "x=re.search(pattern,string)\n",
    "print(x)\n",
    "print(x.group())"
   ]
  },
  {
   "cell_type": "markdown",
   "id": "e0e3ea16",
   "metadata": {},
   "source": [
    "Q11"
   ]
  },
  {
   "cell_type": "code",
   "execution_count": 15,
   "id": "22829c07",
   "metadata": {},
   "outputs": [
    {
     "name": "stdout",
     "output_type": "stream",
     "text": [
      "The string 'Hello_World' matches the pattern.\n",
      "The string '123abc' matches the pattern.\n",
      "The string 'Python3' matches the pattern.\n",
      "The string 'username_' matches the pattern.\n",
      "The string 'data science' does not match the pattern.\n"
     ]
    }
   ],
   "source": [
    "def match_pattern(string):\n",
    "    pattern = r'^[a-zA-Z0-9_]+$'\n",
    "    match = re.match(pattern, string)\n",
    "    if match:\n",
    "        print(f\"The string '{string}' matches the pattern.\")\n",
    "    else:\n",
    "        print(f\"The string '{string}' does not match the pattern.\")\n",
    "test_strings = ['Hello_World', '123abc', 'Python3', 'username_', 'data science']\n",
    "for string in test_strings:\n",
    "    match_pattern(string)"
   ]
  },
  {
   "cell_type": "markdown",
   "id": "ff22fcb1",
   "metadata": {},
   "source": [
    "Q12"
   ]
  },
  {
   "cell_type": "code",
   "execution_count": 16,
   "id": "6e53e55a",
   "metadata": {},
   "outputs": [
    {
     "name": "stdout",
     "output_type": "stream",
     "text": [
      "The string '123abc' starts with the number 123.\n",
      "The string '456def' does not start with the number 123.\n",
      "The string '789xyz' does not start with the number 123.\n",
      "The string 'hello123' does not start with the number 123.\n"
     ]
    }
   ],
   "source": [
    "\n",
    "def starts_with_number(string, number):\n",
    "    if string.startswith(str(number)):\n",
    "        print(f\"The string '{string}' starts with the number {number}.\")\n",
    "    else:\n",
    "        print(f\"The string '{string}' does not start with the number {number}.\")\n",
    "\n",
    "test_strings = ['123abc', '456def', '789xyz', 'hello123']\n",
    "number_to_match = 123\n",
    "\n",
    "for string in test_strings:\n",
    "    starts_with_number(string, number_to_match)"
   ]
  },
  {
   "cell_type": "markdown",
   "id": "771d3258",
   "metadata": {},
   "source": [
    "Q13"
   ]
  },
  {
   "cell_type": "code",
   "execution_count": 19,
   "id": "4379ddb7",
   "metadata": {},
   "outputs": [
    {
     "name": "stdout",
     "output_type": "stream",
     "text": [
      "234.976.45.67\n"
     ]
    }
   ],
   "source": [
    "substitute=re.sub(r\"[0]+\",r'.','2340976045067')\n",
    "print(substitute)"
   ]
  },
  {
   "cell_type": "markdown",
   "id": "5cdf1434",
   "metadata": {},
   "source": [
    "Q14"
   ]
  },
  {
   "cell_type": "code",
   "execution_count": 20,
   "id": "27379a64",
   "metadata": {},
   "outputs": [
    {
     "name": "stdout",
     "output_type": "stream",
     "text": [
      "['26 january 1950']\n"
     ]
    }
   ],
   "source": [
    "text=\"the republic day of India marks and celebrates the date on whic the constitution of India came in to effect on 26 january 1950\"\n",
    "pattern=\"\\d{2}.[a-z]+.\\d{4}\"\n",
    "x=re.findall(pattern,text)\n",
    "print(x)"
   ]
  },
  {
   "cell_type": "markdown",
   "id": "9987c23d",
   "metadata": {},
   "source": [
    "Q16"
   ]
  },
  {
   "cell_type": "code",
   "execution_count": 1,
   "id": "6a75bf1e",
   "metadata": {},
   "outputs": [],
   "source": [
    "import re"
   ]
  },
  {
   "cell_type": "code",
   "execution_count": 2,
   "id": "be1e1a92",
   "metadata": {},
   "outputs": [
    {
     "name": "stdout",
     "output_type": "stream",
     "text": [
      "Found \"wizards\" in \"The five boxing wizards jumped quickly.\" from 16 to 23 \n"
     ]
    }
   ],
   "source": [
    "text='The five boxing wizards jumped quickly.'\n",
    "pattern='wizards'\n",
    "match = re.search(pattern, text)\n",
    "s = match.start()\n",
    "e = match.end()\n",
    "print('Found \"%s\" in \"%s\" from %d to %d ' % \\\n",
    "    (match.re.pattern, match.string, s, e))"
   ]
  },
  {
   "cell_type": "markdown",
   "id": "5bcff315",
   "metadata": {},
   "source": [
    "Q15"
   ]
  },
  {
   "cell_type": "code",
   "execution_count": 3,
   "id": "0d6c26f3",
   "metadata": {},
   "outputs": [
    {
     "name": "stdout",
     "output_type": "stream",
     "text": [
      "Searching for \"fox\" in \"The five boxing wizards jumped quickly.\" ->\n",
      "Not Matched!\n",
      "Searching for \"wizards\" in \"The five boxing wizards jumped quickly.\" ->\n",
      "Matched!\n",
      "Searching for \"cat\" in \"The five boxing wizards jumped quickly.\" ->\n",
      "Not Matched!\n"
     ]
    }
   ],
   "source": [
    "import re\n",
    "patterns = [ 'fox', 'wizards', 'cat' ]\n",
    "text = 'The five boxing wizards jumped quickly.'\n",
    "for pattern in patterns:\n",
    "    print('Searching for \"%s\" in \"%s\" ->' % (pattern, text),)\n",
    "    if re.search(pattern,  text):\n",
    "        print('Matched!')\n",
    "    else:\n",
    "        print('Not Matched!')"
   ]
  },
  {
   "cell_type": "markdown",
   "id": "c3006cdb",
   "metadata": {},
   "source": [
    "Q19"
   ]
  },
  {
   "cell_type": "code",
   "execution_count": 4,
   "id": "43e81047",
   "metadata": {},
   "outputs": [
    {
     "name": "stdout",
     "output_type": "stream",
     "text": [
      "Original date in YYY-MM-DD Format:  2023-07-14\n",
      "New date in DD-MM-YYYY Format:  14-07-2023\n"
     ]
    }
   ],
   "source": [
    "def format(dt):\n",
    "        return re.sub(r'(\\d{4})-(\\d{1,2})-(\\d{1,2})', '\\\\3-\\\\2-\\\\1', dt)\n",
    "dt1 = \"2023-07-14\"\n",
    "print(\"Original date in YYY-MM-DD Format: \",dt1)\n",
    "print(\"New date in DD-MM-YYYY Format: \",format(dt1))"
   ]
  },
  {
   "cell_type": "markdown",
   "id": "8e0746d1",
   "metadata": {},
   "source": [
    "Q20"
   ]
  },
  {
   "cell_type": "code",
   "execution_count": 5,
   "id": "471b3981",
   "metadata": {},
   "outputs": [
    {
     "name": "stdout",
     "output_type": "stream",
     "text": [
      "['ake', 'assurances', 'at', 'an', 'estimator', 'ersion', 'allow', 'ed', 'an', 'equivalent', 'el', 'equent', 'ersion']\n"
     ]
    }
   ],
   "source": [
    "text=\"We make no assurances that pickling an estimator in one version will allow it to be unpickled to an equivalent model in the subsequent version.\"\n",
    "pattern=\"[ae]\\w+\"\n",
    "x=re.findall(pattern,text)\n",
    "print(x)"
   ]
  },
  {
   "cell_type": "markdown",
   "id": "03675fee",
   "metadata": {},
   "source": [
    "Q21"
   ]
  },
  {
   "cell_type": "code",
   "execution_count": 7,
   "id": "607d3808",
   "metadata": {},
   "outputs": [
    {
     "name": "stdout",
     "output_type": "stream",
     "text": [
      "75\n",
      "Index position: 23\n",
      "2023\n",
      "Index position: 71\n"
     ]
    }
   ],
   "source": [
    "text=\"Virat Kohli has scored 75 centuries in international cricket as of May 2023. \"\n",
    "pattern=\"\\d+\"\n",
    "for m in re.finditer(\"\\d+\", text):\n",
    "    print(m.group(0))\n",
    "    print(\"Index position:\", m.start())"
   ]
  },
  {
   "cell_type": "markdown",
   "id": "58d88608",
   "metadata": {},
   "source": [
    "Q23"
   ]
  },
  {
   "cell_type": "code",
   "execution_count": 9,
   "id": "43980482",
   "metadata": {},
   "outputs": [
    {
     "name": "stdout",
     "output_type": "stream",
     "text": [
      "Apple\n",
      "Eat One Apple ADay\n",
      "An Apple ADay Keeps Doctor Away\n"
     ]
    }
   ],
   "source": [
    "def capital_words(str1):\n",
    "    return re.sub(r\"(\\w)([A-Z])\", r\"\\1 \\2\", str1)\n",
    "\n",
    "print(capital_words(\"Apple\"))\n",
    "print(capital_words(\"EatOneAppleADay\"))\n",
    "print(capital_words(\"AnAppleADayKeepsDoctorAway\"))"
   ]
  },
  {
   "cell_type": "markdown",
   "id": "bb1c3f5a",
   "metadata": {},
   "source": [
    "Q24"
   ]
  },
  {
   "cell_type": "code",
   "execution_count": 10,
   "id": "63086c3c",
   "metadata": {},
   "outputs": [
    {
     "name": "stdout",
     "output_type": "stream",
     "text": [
      "Found a match!\n",
      "Found a match!\n",
      "Not matched!\n",
      "Not matched!\n",
      "Not matched!\n",
      "Found a match!\n"
     ]
    }
   ],
   "source": [
    "def match(text):\n",
    "        patterns = '[A-Z]+[a-z]+$'\n",
    "        if re.search(patterns, text):\n",
    "                return 'Found a match!'\n",
    "        else:\n",
    "                return('Not matched!')\n",
    "print(match(\"CatBat\"))\n",
    "print(match(\"Machien\"))\n",
    "print(match(\"apple\"))\n",
    "print(match(\"BANANA\"))\n",
    "print(match(\"rat\"))\n",
    "print(match(\"Mat\"))"
   ]
  },
  {
   "cell_type": "markdown",
   "id": "8f80cfe4",
   "metadata": {},
   "source": [
    "Q25"
   ]
  },
  {
   "cell_type": "code",
   "execution_count": 12,
   "id": "8a940e6f",
   "metadata": {},
   "outputs": [
    {
     "name": "stdout",
     "output_type": "stream",
     "text": [
      "Hello Hello Alex How are are you\n"
     ]
    }
   ],
   "source": [
    "string=\"Hello Hello Alex How are are you\"\n",
    "pattern=\"r\\b(\\w+)(?:\\W+\\1\\b)+\"\n",
    "x=re.sub(pattern,r'\\1',string,flags=re.IGNORECASE)\n",
    "print(x)"
   ]
  },
  {
   "cell_type": "markdown",
   "id": "c289c78e",
   "metadata": {},
   "source": [
    "Q26"
   ]
  },
  {
   "cell_type": "code",
   "execution_count": 13,
   "id": "e7b5d7ee",
   "metadata": {},
   "outputs": [],
   "source": [
    "import re"
   ]
  },
  {
   "cell_type": "code",
   "execution_count": 15,
   "id": "40a2551f",
   "metadata": {},
   "outputs": [
    {
     "name": "stdout",
     "output_type": "stream",
     "text": [
      "Python@\n",
      "The string doesnot end with alphanumeric character\n",
      "Python1245\n",
      "The string ends with alphanumeric character\n"
     ]
    }
   ],
   "source": [
    "pattern = '[a-zA-z0-9]$'\n",
    "\n",
    "def string(my_string):\n",
    "    if(re.search(pattern, my_string)):\n",
    "        print(\"The string ends with alphanumeric character\")\n",
    "    else:\n",
    "        print(\"The string doesnot end with alphanumeric character\")\n",
    "\n",
    "\n",
    "my_string_1 = \"Python@\"\n",
    "print(my_string_1)\n",
    "string(my_string_1)\n",
    "\n",
    "my_string_2 = \"Python1245\"\n",
    "print(my_string_2)\n",
    "string(my_string_2)"
   ]
  },
  {
   "cell_type": "markdown",
   "id": "e150baea",
   "metadata": {},
   "source": [
    "Q27"
   ]
  },
  {
   "cell_type": "code",
   "execution_count": 16,
   "id": "94f670d2",
   "metadata": {},
   "outputs": [
    {
     "name": "stdout",
     "output_type": "stream",
     "text": [
      "Datascience,DataAnalyst\n"
     ]
    }
   ],
   "source": [
    "text=\" python is wonderful language for #Datascience,#DataAnalyst\"\n",
    "textlist=text.split()\n",
    "for i in textlist:\n",
    "    if(i.startswith(\"#\")):\n",
    "        x = i.replace(\"#\", '')\n",
    "        print(x)"
   ]
  },
  {
   "cell_type": "markdown",
   "id": "16776057",
   "metadata": {},
   "source": [
    "Q28"
   ]
  },
  {
   "cell_type": "code",
   "execution_count": 18,
   "id": "fc3898f1",
   "metadata": {},
   "outputs": [
    {
     "name": "stdout",
     "output_type": "stream",
     "text": [
      " @jags12345 Bharat band on 28?? Those who are protesting for #Demonitization are all differnet party leaders\n"
     ]
    }
   ],
   "source": [
    "text=\" @jags12345 Bharat band on 28??<ed><U+00A0><U+00BD><ed><U+00B8><U+))82> Those who are protesting for #Demonitization are all differnet party leaders\"\n",
    "x=re.sub('<.*?>', '', text)\n",
    "print(x)"
   ]
  },
  {
   "cell_type": "markdown",
   "id": "fbcb9012",
   "metadata": {},
   "source": [
    "Q29"
   ]
  },
  {
   "cell_type": "code",
   "execution_count": 19,
   "id": "9b72211d",
   "metadata": {},
   "outputs": [
    {
     "name": "stdout",
     "output_type": "stream",
     "text": [
      "['12-09-1992', '15-12-1999']\n"
     ]
    }
   ],
   "source": [
    "with open(r\"c:\\riddhi\\jigar\\date.txt\")as file:\n",
    "    for line in file:\n",
    "        x=re.findall('\\d{2}-\\d{2}-\\d{4}',line)\n",
    "        print(x)"
   ]
  },
  {
   "cell_type": "markdown",
   "id": "73ca3e69",
   "metadata": {},
   "source": [
    "Q30"
   ]
  },
  {
   "cell_type": "code",
   "execution_count": 21,
   "id": "99407af1",
   "metadata": {},
   "outputs": [
    {
     "name": "stdout",
     "output_type": "stream",
     "text": [
      "Python:Exercises::PHP:exercises:\n"
     ]
    }
   ],
   "source": [
    "text = 'Python Exercises, PHP exercises.'\n",
    "x=re.sub(\"[ ,.]\", \":\", text)\n",
    "print(x)\n",
    "\n"
   ]
  },
  {
   "cell_type": "code",
   "execution_count": null,
   "id": "f3141fc6",
   "metadata": {},
   "outputs": [],
   "source": []
  }
 ],
 "metadata": {
  "kernelspec": {
   "display_name": "Python 3 (ipykernel)",
   "language": "python",
   "name": "python3"
  },
  "language_info": {
   "codemirror_mode": {
    "name": "ipython",
    "version": 3
   },
   "file_extension": ".py",
   "mimetype": "text/x-python",
   "name": "python",
   "nbconvert_exporter": "python",
   "pygments_lexer": "ipython3",
   "version": "3.9.13"
  }
 },
 "nbformat": 4,
 "nbformat_minor": 5
}
